{
 "cells": [
  {
   "cell_type": "markdown",
   "source": [],
   "metadata": {
    "collapsed": false,
    "pycharm": {
     "name": "#%% md\n"
    }
   }
  },
  {
   "cell_type": "code",
   "execution_count": 4,
   "outputs": [
    {
     "name": "stdout",
     "output_type": "stream",
     "text": [
      "Requirement already satisfied: rdflib in /Users/zijiandong/opt/anaconda3/lib/python3.9/site-packages (7.0.0)\r\n",
      "Requirement already satisfied: isodate<0.7.0,>=0.6.0 in /Users/zijiandong/opt/anaconda3/lib/python3.9/site-packages (from rdflib) (0.6.1)\r\n",
      "Requirement already satisfied: pyparsing<4,>=2.1.0 in /Users/zijiandong/opt/anaconda3/lib/python3.9/site-packages (from rdflib) (3.0.4)\r\n",
      "Requirement already satisfied: six in /Users/zijiandong/opt/anaconda3/lib/python3.9/site-packages (from isodate<0.7.0,>=0.6.0->rdflib) (1.16.0)\r\n"
     ]
    }
   ],
   "source": [
    "!pip install rdflib\n"
   ],
   "metadata": {
    "collapsed": false,
    "pycharm": {
     "name": "#%%\n"
    }
   }
  },
  {
   "cell_type": "code",
   "execution_count": 10,
   "outputs": [
    {
     "name": "stderr",
     "output_type": "stream",
     "text": [
      "https://store.nintendo.nl/nl/New Products does not look like a valid URI, trying to serialize this will break.\n",
      "https://store.nintendo.nl/nl/Special Products does not look like a valid URI, trying to serialize this will break.\n",
      "https://store.nintendo.nl/nl/SuperMario Odyssey(DE) does not look like a valid URI, trying to serialize this will break.\n",
      "https://store.nintendo.nl/nl/Super Bomber Man 2 does not look like a valid URI, trying to serialize this will break.\n",
      "https://store.nintendo.nl/nl/SuperMario Tote Bag does not look like a valid URI, trying to serialize this will break.\n",
      "https://store.nintendo.nl/nl/Plush Mario Tanuki does not look like a valid URI, trying to serialize this will break.\n",
      "https://store.nintendo.nl/nl/T-shirt Splatoon 3 Spaltfest 'Fire' does not look like a valid URI, trying to serialize this will break.\n",
      "https://store.nintendo.nl/nl/AC Adapter does not look like a valid URI, trying to serialize this will break.\n",
      "https://store.nintendo.nl/nl/wish list does not look like a valid URI, trying to serialize this will break.\n",
      "https://store.nintendo.nl/nl/help centre does not look like a valid URI, trying to serialize this will break.\n",
      "https://store.nintendo.nl/nl/Shopping cart does not look like a valid URI, trying to serialize this will break.\n"
     ]
    }
   ],
   "source": [
    "from rdflib import URIRef, BNode, Literal, Namespace\n",
    "from rdflib.namespace import FOAF, DCTERMS, XSD, RDF, SDO\n",
    "from rdflib import Graph\n",
    "\n",
    "\n",
    "#Predicates\n",
    "\n",
    "\n",
    "\n",
    "\n",
    "\n",
    "\n",
    "NS = Namespace('https://store.nintendo.nl/nl/')\n",
    "\n",
    "category = NS['category']\n",
    "\n",
    "#--------------Categories--------------------------------\n",
    "games = NS['games']\n",
    "account = NS['account']\n",
    "Location = NS['locales']\n",
    "GameDevice = NS['consoles']\n",
    "ExclusiveProduct = NS['my-nintendo/my-nintendo-store-exclusives']\n",
    "NewProducts =NS['New Products']\n",
    "SpecialProducts =NS['Special Products']\n",
    "\n",
    "#--------Sub-Categories-------------\n",
    "\n",
    "\n",
    "DigitalEdition = NS['DigitalEdition']\n",
    "PhysicalEdition = NS['PhysicalEdition']\n",
    "Accessories = NS['Accessories']\n",
    "ReplacementParts = NS['consoles/accessories/replacement-parts']\n",
    "\n",
    "#----------------Instances-------------------------------------\n",
    "\n",
    "TheLegendOfZelda = NS['TheLegendOfZelda(DE)']\n",
    "SuperMario = NS['SuperMario Odyssey(DE)']\n",
    "RingFitAdventure = NS['RingFitAdventure(PE)']\n",
    "SuperBomberMan = NS['Super Bomber Man 2']\n",
    "\n",
    "ToteBag = NS[\"SuperMario Tote Bag\"]\n",
    "PlushMario = NS[\"Plush Mario Tanuki\"]\n",
    "Tshirt = NS[\"T-shirt Splatoon 3 Spaltfest 'Fire'\"]\n",
    "\n",
    "Switch = NS['Switch']\n",
    "Controller = NS['Controller']\n",
    "\n",
    "AcAdapter = NS['AC Adapter']\n",
    "\n",
    "\n",
    "#For Account:\n",
    "Reward = NS['Reward']\n",
    "wishList = NS['wish list']\n",
    "HeloCentre = NS['help centre']\n",
    "ShoppingCart = NS['Shopping cart']\n",
    "Favourite = NS['favourite']\n",
    "Points = NS['Points']\n",
    "Orders = NS['Orders']\n",
    "Delivery = NS['Delivery']\n",
    "Return = NS['Return']\n",
    "\n",
    "#For location:\n",
    "Language = NS['Language']\n",
    "Currency = NS['Currency']\n",
    "Dutch = NS['Dutch']\n",
    "\n",
    "\n",
    "\n",
    "\n",
    "#-----------------------------------------------------\n",
    "#videoGame = URIRef('https://schema.org/VideoGame')\n",
    "#videoGame = URIRef('https://dbpedia.org/page/Video_game')\n",
    "\n",
    "person = URIRef('https://schema.org/Person')\n",
    "\n",
    "#Game\n",
    "#Account\n",
    "#Location\n",
    "#ExclusiveProduct\n",
    "#Gamedevice"
   ],
   "metadata": {
    "collapsed": false,
    "pycharm": {
     "name": "#%%\n"
    }
   }
  },
  {
   "cell_type": "markdown",
   "source": [],
   "metadata": {
    "collapsed": false,
    "pycharm": {
     "name": "#%% md\n"
    }
   }
  },
  {
   "cell_type": "code",
   "execution_count": 12,
   "outputs": [
    {
     "name": "stdout",
     "output_type": "stream",
     "text": [
      "@prefix ns3: <https://store.nintendo.nl/nl/> .\n",
      "@prefix rdfs: <http://www.w3.org/2000/01/rdf-schema#> .\n",
      "\n",
      "ns3:Currency rdfs:subClassOf ns3:locales .\n",
      "\n",
      "ns3:DigitalEdition rdfs:subClassOf ns3:games .\n",
      "\n",
      "ns3:Language rdfs:subClassOf ns3:locales .\n",
      "\n",
      "ns3:PhysicalEdition rdfs:subClassOf ns3:games .\n",
      "\n",
      "ns3:TheLegendOfZelda\\(DE\\) ns3:category ns3:games,\n",
      "        ns3:locales .\n",
      "\n",
      "<https://store.nintendo.nl/nl/consoles/accessories/replacement-parts> rdfs:subClassOf ns3:Accessories .\n",
      "\n",
      "\n"
     ]
    }
   ],
   "source": [
    "from rdflib import Graph, URIRef, RDF, RDFS\n",
    "\n",
    "g = Graph()\n",
    "g.bind('ns3', NS)\n",
    "\n",
    "\n",
    "g.add((TheLegendOfZelda, category, games))\n",
    "g.add((TheLegendOfZelda, category, Location))\n",
    "\n",
    "\n",
    "\n",
    "#g.add((games, RDFS.subClassOf, games))\n",
    "#g.add((account, RDFS.subClassOf, games))\n",
    "#g.add((Location, RDFS.subClassOf, Accessories))\n",
    "#g.add((GameDevice, RDFS.subClassOf, Location))\n",
    "#g.add((ExclusiveProduct, RDFS.subClassOf, games))\n",
    "#g.add((NewProducts, RDFS.subClassOf, games))\n",
    "#g.add((SpecialProducts, RDFS.subClassOf, Accessories))\n",
    "#g.add((GameDevice, RDFS.subClassOf, Location))\n",
    "\n",
    "\n",
    "g.add((DigitalEdition, RDFS.subClassOf, games))\n",
    "g.add((PhysicalEdition, RDFS.subClassOf, games))\n",
    "g.add((ReplacementParts, RDFS.subClassOf, Accessories))\n",
    "g.add((Language, RDFS.subClassOf, Location))\n",
    "g.add((Currency, RDFS.subClassOf, Location))\n",
    "\n",
    "\n",
    "\n",
    "\n",
    "\n",
    "\n",
    "#Game\n",
    "#Account\n",
    "#Location\n",
    "#ExclusiveProduct\n",
    "#Gamedevice\n",
    "\n",
    "#g.add((games, RDF.type, Literal('game')))\n",
    "\n",
    "#g.add((games, RDF.type, person))  #add remzi, which is a person,\n",
    "\n",
    "#g.add((games, FOAF, Literal('games')))\n",
    "\n",
    "print(g.serialize(format='ttl'))\n"
   ],
   "metadata": {
    "collapsed": false,
    "pycharm": {
     "name": "#%%\n"
    }
   }
  },
  {
   "cell_type": "code",
   "execution_count": null,
   "outputs": [],
   "source": [],
   "metadata": {
    "collapsed": false,
    "pycharm": {
     "name": "#%%\n"
    }
   }
  }
 ],
 "metadata": {
  "colab": {
   "collapsed_sections": [],
   "provenance": []
  },
  "kernelspec": {
   "display_name": "Python 3.9.7 ('base')",
   "language": "python",
   "name": "python3"
  },
  "language_info": {
   "codemirror_mode": {
    "name": "ipython",
    "version": 3
   },
   "file_extension": ".py",
   "mimetype": "text/x-python",
   "name": "python",
   "nbconvert_exporter": "python",
   "pygments_lexer": "ipython3",
   "version": "3.9.7"
  },
  "vscode": {
   "interpreter": {
    "hash": "d04c54a02add8cf264a0add8fd7ee8c6b80e66ede9002712416e08e7fb9ea34c"
   }
  }
 },
 "nbformat": 4,
 "nbformat_minor": 0
}